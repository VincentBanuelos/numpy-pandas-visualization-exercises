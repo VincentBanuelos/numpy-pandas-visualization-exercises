{
 "cells": [
  {
   "cell_type": "code",
   "execution_count": 1,
   "id": "f9ddfa52",
   "metadata": {},
   "outputs": [],
   "source": [
    "# In your numpy-pandas-visualization-exercises repo, \n",
    "# create a file named numpy_exercises.py for this exercise"
   ]
  },
  {
   "cell_type": "code",
   "execution_count": 2,
   "id": "88f7ebaf",
   "metadata": {},
   "outputs": [],
   "source": [
    "import numpy as np"
   ]
  },
  {
   "cell_type": "code",
   "execution_count": 3,
   "id": "9a104073",
   "metadata": {},
   "outputs": [],
   "source": [
    "# Use the following code for the questions below:\n",
    "a = np.array([4, 10, 12, 23, -2, -1, 0, 0, 0, -6, 3, -7])"
   ]
  },
  {
   "cell_type": "code",
   "execution_count": 4,
   "id": "fd4187d9",
   "metadata": {},
   "outputs": [
    {
     "name": "stdout",
     "output_type": "stream",
     "text": [
      " There are 4 negative numbers.\n"
     ]
    }
   ],
   "source": [
    "# 1. How many negative numbers are there?\n",
    "a[a < 0] # This will find all values in a that are less than 0\n",
    "neg_num_len = len(a[a < 0]) #This gives a number of the amount of values that are less than 0\n",
    "\n",
    "print(f' There are {neg_num_len} negative numbers.')"
   ]
  },
  {
   "cell_type": "code",
   "execution_count": 5,
   "id": "d3d8fc39",
   "metadata": {},
   "outputs": [
    {
     "name": "stdout",
     "output_type": "stream",
     "text": [
      " There are 5 positive numbers.\n"
     ]
    }
   ],
   "source": [
    "# 2. How many positive numbers are there?\n",
    "a[a > 0] # This will find all values in a that are more than 0\n",
    "pos_num_len = len(a[a > 0]) #This gives a number of the amount of values that are more than 0\n",
    "print(f' There are {pos_num_len} positive numbers.')"
   ]
  },
  {
   "cell_type": "code",
   "execution_count": 6,
   "id": "9d6f600b",
   "metadata": {},
   "outputs": [
    {
     "name": "stdout",
     "output_type": "stream",
     "text": [
      " There are 3 positive and even numbers.\n"
     ]
    }
   ],
   "source": [
    "# 3. How many even positive numbers are there?\n",
    "\n",
    "# the & operator allows me to assure that multiple conditions must be met, similar to the 'and' function\n",
    "a[(a > 0) & (a % 2 == 0)]\n",
    "count_even_and_pos_nums = len(a[(a > 2) & (a % 2 == 0)])\n",
    "print(f' There are {count_even_and_pos_nums} positive and even numbers.')"
   ]
  },
  {
   "cell_type": "code",
   "execution_count": 7,
   "id": "526f8a32",
   "metadata": {},
   "outputs": [
    {
     "name": "stdout",
     "output_type": "stream",
     "text": [
      " There are 10 positive numbers after adding 3 to each data point\n"
     ]
    }
   ],
   "source": [
    "# 4. If you were to add 3 to each data point, how many positive numbers would there be?\n",
    "a_plus_3 = a + 3\n",
    "a_plus_3\n",
    "amount_of_pos_plus_3 = len(a_plus_3[a_plus_3 > 0])\n",
    "\n",
    "print(f' There are {amount_of_pos_plus_3} positive numbers after adding 3 to each data point')"
   ]
  },
  {
   "cell_type": "code",
   "execution_count": 8,
   "id": "a1e47ae7",
   "metadata": {},
   "outputs": [
    {
     "name": "stdout",
     "output_type": "stream",
     "text": [
      "The new mean is 74.0\n",
      "The new standard deviation is 144.0243035046516\n"
     ]
    }
   ],
   "source": [
    "# 5. If you squared each number, what would the new mean and standard deviation be?\n",
    "a_squared = a ** 2\n",
    "a_squared\n",
    "\n",
    "new_mean = np.mean(a_squared) #Numpy will find the mean of the squared values using the variable i made for the squared values\n",
    "new_std = np.std(a_squared) #Numpy will find the mean of the standard deviation using the variable i made for the squared values\n",
    "print(f'The new mean is {new_mean}')\n",
    "print(f'The new standard deviation is {new_std}')"
   ]
  },
  {
   "cell_type": "code",
   "execution_count": 9,
   "id": "130f41e9",
   "metadata": {},
   "outputs": [
    {
     "data": {
      "text/plain": [
       "0.0"
      ]
     },
     "execution_count": 9,
     "metadata": {},
     "output_type": "execute_result"
    }
   ],
   "source": [
    "# 6. A common statistical operation on a dataset is centering. \n",
    "# This means to adjust the data such that the mean of the data is 0. \n",
    "# This is done by subtracting the mean from each data point. \n",
    "# Center the data set. See this link for more on centering.\n",
    "\n",
    "\n",
    "a_mean = np.mean(a) # The mean of the original array is 3.0\n",
    "\n",
    "centered_data = a - a_mean # Now to center the data\n",
    "\n",
    "np.mean(centered_data) #Running the mean of the centered data will allow me to check if i did everything correct\n",
    "# The mean of the centered data is 0 so the data has been centered."
   ]
  },
  {
   "cell_type": "code",
   "execution_count": 10,
   "id": "97785023",
   "metadata": {},
   "outputs": [
    {
     "data": {
      "text/plain": [
       "array([ 0.12403473,  0.86824314,  1.11631261,  2.48069469, -0.62017367,\n",
       "       -0.49613894, -0.3721042 , -0.3721042 , -0.3721042 , -1.11631261,\n",
       "        0.        , -1.24034735])"
      ]
     },
     "execution_count": 10,
     "metadata": {},
     "output_type": "execute_result"
    }
   ],
   "source": [
    "# 7.Calculate the z-score for each data point.\n",
    "std = np.std(a)\n",
    "\n",
    "z_score = (a - a_mean)/std\n",
    "z_score"
   ]
  },
  {
   "cell_type": "code",
   "execution_count": 11,
   "id": "63388642",
   "metadata": {},
   "outputs": [],
   "source": [
    "# 8. Copy the setup and exercise directions from\n",
    "# More Numpy Practice into your numpy_exercises.py\n",
    "# and add your solutions."
   ]
  },
  {
   "cell_type": "code",
   "execution_count": 12,
   "id": "dd4721be",
   "metadata": {},
   "outputs": [],
   "source": [
    "## Setup 1\n",
    "a = [1, 2, 3, 4, 5, 6, 7, 8, 9, 10]"
   ]
  },
  {
   "cell_type": "code",
   "execution_count": 13,
   "id": "4c776c13",
   "metadata": {},
   "outputs": [],
   "source": [
    "# Use python's built in functionality/operators to determine the following:"
   ]
  },
  {
   "cell_type": "code",
   "execution_count": 14,
   "id": "2dd59cc8",
   "metadata": {},
   "outputs": [
    {
     "data": {
      "text/plain": [
       "55"
      ]
     },
     "execution_count": 14,
     "metadata": {},
     "output_type": "execute_result"
    }
   ],
   "source": [
    "# Exercise 1 - Make a variable called sum_of_a to hold the sum of all the numbers in above list\n",
    "\n",
    "sum_of_a = np.sum(a)\n",
    "sum_of_a"
   ]
  },
  {
   "cell_type": "code",
   "execution_count": 15,
   "id": "00c9ca4e",
   "metadata": {},
   "outputs": [
    {
     "data": {
      "text/plain": [
       "1"
      ]
     },
     "execution_count": 15,
     "metadata": {},
     "output_type": "execute_result"
    }
   ],
   "source": [
    "# Exercise 2 - Make a variable named min_of_a to hold the minimum of all the numbers in the above list\n",
    "\n",
    "min_of_a = np.min(a)\n",
    "min_of_a"
   ]
  },
  {
   "cell_type": "code",
   "execution_count": 16,
   "id": "69c0d85d",
   "metadata": {},
   "outputs": [
    {
     "data": {
      "text/plain": [
       "10"
      ]
     },
     "execution_count": 16,
     "metadata": {},
     "output_type": "execute_result"
    }
   ],
   "source": [
    "# Exercise 3 - Make a variable named max_of_a to hold the max number of all the numbers in the above list\n",
    "\n",
    "max_of_a = np.max(a)\n",
    "max_of_a"
   ]
  },
  {
   "cell_type": "code",
   "execution_count": 17,
   "id": "d2993713",
   "metadata": {},
   "outputs": [
    {
     "data": {
      "text/plain": [
       "5.5"
      ]
     },
     "execution_count": 17,
     "metadata": {},
     "output_type": "execute_result"
    }
   ],
   "source": [
    "# Exercise 4 - Make a variable named mean_of_a to hold the average of all the numbers in the above list\n",
    "\n",
    "mean_of_a = np.mean(a)\n",
    "mean_of_a"
   ]
  },
  {
   "cell_type": "code",
   "execution_count": 18,
   "id": "e3fd0c13",
   "metadata": {},
   "outputs": [
    {
     "data": {
      "text/plain": [
       "3628800"
      ]
     },
     "execution_count": 18,
     "metadata": {},
     "output_type": "execute_result"
    }
   ],
   "source": [
    "# Exercise 5 - Make a variable named product_of_a to hold the product of multiplying all the numbers in the above list together\n",
    "\n",
    "product_of_a = np.product(a)\n",
    "product_of_a"
   ]
  },
  {
   "cell_type": "code",
   "execution_count": 19,
   "id": "7373ccb8",
   "metadata": {},
   "outputs": [
    {
     "data": {
      "text/plain": [
       "[1, 4, 9, 16, 25, 36, 49, 64, 81, 100]"
      ]
     },
     "execution_count": 19,
     "metadata": {},
     "output_type": "execute_result"
    }
   ],
   "source": [
    "# Exercise 6 - Make a variable named squares_of_a. It should hold each number in a squared like [1, 4, 9, 16, 25...]\n",
    "\n",
    "#Use list comprehension for this one so that the variable creates a seperate list holding the squared values from a\n",
    "squares_of_a = [num ** 2 for num in a]\n",
    "squares_of_a"
   ]
  },
  {
   "cell_type": "code",
   "execution_count": 20,
   "id": "1ec9b1b2",
   "metadata": {},
   "outputs": [
    {
     "data": {
      "text/plain": [
       "[1, 3, 5, 7, 9]"
      ]
     },
     "execution_count": 20,
     "metadata": {},
     "output_type": "execute_result"
    }
   ],
   "source": [
    "# Exercise 7 - Make a variable named odds_in_a. It should hold only the odd numbers\n",
    "\n",
    "#Use list comprehension for this one so that the variable creates a seperate list holding the odd numbers from a\n",
    "odds_in_a = [num for num in a if num % 2 == 1]\n",
    "odds_in_a"
   ]
  },
  {
   "cell_type": "code",
   "execution_count": 21,
   "id": "c22d70d7",
   "metadata": {},
   "outputs": [
    {
     "data": {
      "text/plain": [
       "[2, 4, 6, 8, 10]"
      ]
     },
     "execution_count": 21,
     "metadata": {},
     "output_type": "execute_result"
    }
   ],
   "source": [
    "# Exercise 8 - Make a variable named evens_in_a. It should hold only the evens.\n",
    "\n",
    "evens_in_a = [num for num in a if num % 2 == 0]\n",
    "evens_in_a"
   ]
  },
  {
   "cell_type": "code",
   "execution_count": 22,
   "id": "00a944b2",
   "metadata": {},
   "outputs": [],
   "source": [
    "## What about life in two dimensions? A list of lists is matrix, a table, a spreadsheet, a chessboard..."
   ]
  },
  {
   "cell_type": "code",
   "execution_count": 23,
   "id": "455fae39",
   "metadata": {},
   "outputs": [],
   "source": [
    "## Setup 2: Consider what it would take to find the sum, min, max, average, sum, product, and list of squares for this list of two lists.\n",
    "b = [\n",
    "    [3, 4, 5],\n",
    "    [6, 7, 8]\n",
    "    ]"
   ]
  },
  {
   "cell_type": "code",
   "execution_count": 24,
   "id": "9ff8f310",
   "metadata": {},
   "outputs": [
    {
     "name": "stdout",
     "output_type": "stream",
     "text": [
      "33\n"
     ]
    }
   ],
   "source": [
    "# Exercise 1 - refactor the following to use numpy. Use sum_of_b as the variable. \n",
    "# **Hint, you'll first need to make sure that the \"b\" variable is a numpy array**\n",
    "\n",
    "#sum_of_b = 0\n",
    "#for row in b:\n",
    "#    sum_of_b += sum(row)\n",
    "\n",
    "b = np.array(b) # start by making b a 2x3 array \n",
    "sum_of_b = np.sum(b) #np.sum will add up all values in b\n",
    "print(sum_of_b)"
   ]
  },
  {
   "cell_type": "code",
   "execution_count": 25,
   "id": "fbc1f6ba",
   "metadata": {},
   "outputs": [
    {
     "data": {
      "text/plain": [
       "3"
      ]
     },
     "execution_count": 25,
     "metadata": {},
     "output_type": "execute_result"
    }
   ],
   "source": [
    "# Exercise 2 - refactor the following to use numpy. \n",
    "# min_of_b = min(b[0]) if min(b[0]) <= min(b[1]) else min(b[1])\n",
    "\n",
    "min_of_b = np.min(b) #np.min will determine the smallest value automatically\n",
    "min_of_b"
   ]
  },
  {
   "cell_type": "code",
   "execution_count": 26,
   "id": "6faacfc1",
   "metadata": {},
   "outputs": [
    {
     "data": {
      "text/plain": [
       "8"
      ]
     },
     "execution_count": 26,
     "metadata": {},
     "output_type": "execute_result"
    }
   ],
   "source": [
    "# Exercise 3 - refactor the following maximum calculation to find the answer with numpy.\n",
    "# max_of_b = max(b[0]) if max(b[0]) >= max(b[1]) else max(b[1])\n",
    "\n",
    "max_of_b = np.max(b) #np.max will determine the largest value automatically\n",
    "max_of_b"
   ]
  },
  {
   "cell_type": "code",
   "execution_count": 27,
   "id": "dfa09796",
   "metadata": {},
   "outputs": [
    {
     "data": {
      "text/plain": [
       "5.5"
      ]
     },
     "execution_count": 27,
     "metadata": {},
     "output_type": "execute_result"
    }
   ],
   "source": [
    "# Exercise 4 - refactor the following using numpy to find the mean of b\n",
    "# mean_of_b = (sum(b[0]) + sum(b[1])) / (len(b[0]) + len(b[1]))\n",
    "\n",
    "mean_of_b = np.mean(b) #np.mean will calculate the mean of b automatically\n",
    "mean_of_b"
   ]
  },
  {
   "cell_type": "code",
   "execution_count": 28,
   "id": "dca3ee8c",
   "metadata": {},
   "outputs": [
    {
     "data": {
      "text/plain": [
       "20160"
      ]
     },
     "execution_count": 28,
     "metadata": {},
     "output_type": "execute_result"
    }
   ],
   "source": [
    "# Exercise 5 - refactor the following to use numpy for calculating the product of all numbers multiplied together.\n",
    "# product_of_b = 1\n",
    "# for row in b:\n",
    "#     for number in row:\n",
    "#         product_of_b *= number\n",
    "\n",
    "product_of_b = np.product(b) #np.product multiplies all of the values in b to eachother and gives the result\n",
    "product_of_b"
   ]
  },
  {
   "cell_type": "code",
   "execution_count": 29,
   "id": "326ae7da",
   "metadata": {},
   "outputs": [
    {
     "data": {
      "text/plain": [
       "array([[ 9, 16, 25],\n",
       "       [36, 49, 64]])"
      ]
     },
     "execution_count": 29,
     "metadata": {},
     "output_type": "execute_result"
    }
   ],
   "source": [
    "# Exercise 6 - refactor the following to use numpy to find the list of squares \n",
    "# squares_of_b = []\n",
    "# for row in b:\n",
    "#     for number in row:\n",
    "#         squares_of_b.append(number**2)\n",
    "\n",
    "squares_of_b = np.square(b)\n",
    "squares_of_b"
   ]
  },
  {
   "cell_type": "code",
   "execution_count": 30,
   "id": "65a6338c",
   "metadata": {},
   "outputs": [
    {
     "name": "stdout",
     "output_type": "stream",
     "text": [
      "[3 5 7]\n"
     ]
    }
   ],
   "source": [
    "# Exercise 7 - refactor using numpy to determine the odds_in_b\n",
    "# odds_in_b = []\n",
    "# for row in b:\n",
    "#     for number in row:\n",
    "#         if(number % 2 != 0):\n",
    "#             odds_in_b.append(number)\n",
    "\n",
    "odds_in_b = b[b % 2 == 1] # We can pass a boolean mask that has set odd numbers to True, and then use that to index the array\n",
    "print(odds_in_b)"
   ]
  },
  {
   "cell_type": "code",
   "execution_count": 31,
   "id": "bd5e1ad8",
   "metadata": {},
   "outputs": [
    {
     "name": "stdout",
     "output_type": "stream",
     "text": [
      "[4 6 8]\n"
     ]
    }
   ],
   "source": [
    "# Exercise 8 - refactor the following to use numpy to filter only the even numbers\n",
    "# evens_in_b = []\n",
    "# for row in b:\n",
    "#     for number in row:\n",
    "#         if(number % 2 == 0):\n",
    "#             evens_in_b.append(number)\n",
    "\n",
    "evens_in_b = b[b % 2 == 0] # We can pass a boolean mask that has set odd numbers to True, and then use that to index the array\n",
    "print(evens_in_b)"
   ]
  },
  {
   "cell_type": "code",
   "execution_count": 32,
   "id": "695b20e0",
   "metadata": {},
   "outputs": [
    {
     "name": "stdout",
     "output_type": "stream",
     "text": [
      "(2, 3)\n"
     ]
    }
   ],
   "source": [
    "# Exercise 9 - print out the shape of the array b.\n",
    "\n",
    "print(b.shape) # The shape gives us the (number of rows, number of columns) as a tuple "
   ]
  },
  {
   "cell_type": "code",
   "execution_count": 33,
   "id": "34f5d90e",
   "metadata": {},
   "outputs": [
    {
     "data": {
      "text/plain": [
       "array([[3, 6],\n",
       "       [4, 7],\n",
       "       [5, 8]])"
      ]
     },
     "execution_count": 33,
     "metadata": {},
     "output_type": "execute_result"
    }
   ],
   "source": [
    "# Exercise 10 - transpose the array b.\n",
    "\n",
    "np.transpose(b) # np.transpose() turns our A x B array into a B x A array"
   ]
  },
  {
   "cell_type": "code",
   "execution_count": 34,
   "id": "5bcbf4ac",
   "metadata": {},
   "outputs": [
    {
     "data": {
      "text/plain": [
       "array([3, 4, 5, 6, 7, 8])"
      ]
     },
     "execution_count": 34,
     "metadata": {},
     "output_type": "execute_result"
    }
   ],
   "source": [
    "# Exercise 11 - reshape the array b to be a single list of 6 numbers. (1 x 6)\n",
    "\n",
    "np.reshape(b, 6) # np.reshape(array, shape) converts our array into a 1x6"
   ]
  },
  {
   "cell_type": "code",
   "execution_count": 35,
   "id": "9a329cfc",
   "metadata": {},
   "outputs": [
    {
     "data": {
      "text/plain": [
       "array([[3],\n",
       "       [4],\n",
       "       [5],\n",
       "       [6],\n",
       "       [7],\n",
       "       [8]])"
      ]
     },
     "execution_count": 35,
     "metadata": {},
     "output_type": "execute_result"
    }
   ],
   "source": [
    "# Exercise 12 - reshape the array b to be a list of 6 lists, each containing only 1 number (6 x 1)\n",
    "\n",
    "np.reshape(b, (6, 1)) #np.reshape(array, shape) converts our array into a shape represented by a tuple"
   ]
  },
  {
   "cell_type": "code",
   "execution_count": 36,
   "id": "550a486d",
   "metadata": {},
   "outputs": [],
   "source": [
    "## Setup 3\n",
    "c = [\n",
    "    [1, 2, 3],\n",
    "    [4, 5, 6],\n",
    "    [7, 8, 9]\n",
    "]"
   ]
  },
  {
   "cell_type": "code",
   "execution_count": 37,
   "id": "77a5ae07",
   "metadata": {},
   "outputs": [
    {
     "name": "stdout",
     "output_type": "stream",
     "text": [
      "Min: 1 Max: 9 Sum: 45 Product: 362880\n"
     ]
    }
   ],
   "source": [
    "# HINT, you'll first need to make sure that the \"c\" variable is a numpy array prior to using numpy array methods.\n",
    "# Exercise 1 - Find the min, max, sum, and product of c.\n",
    "c = np.array(c)\n",
    "\n",
    "print('Min:',np.min(c), 'Max:',np.max(c), 'Sum:', np.sum(c),'Product:', np.product(c))"
   ]
  },
  {
   "cell_type": "code",
   "execution_count": 38,
   "id": "a0eb4dcb",
   "metadata": {},
   "outputs": [
    {
     "name": "stdout",
     "output_type": "stream",
     "text": [
      "Standard Deviation: 2.581988897471611\n"
     ]
    }
   ],
   "source": [
    "# Exercise 2 - Determine the standard deviation of c.\n",
    "\n",
    "print('Standard Deviation:' ,np.std(c))"
   ]
  },
  {
   "cell_type": "code",
   "execution_count": 39,
   "id": "81737862",
   "metadata": {},
   "outputs": [
    {
     "name": "stdout",
     "output_type": "stream",
     "text": [
      "6.666666666666667\n"
     ]
    }
   ],
   "source": [
    "# Exercise 3 - Determine the variance of c.\n",
    "\n",
    "print(np.var(c))"
   ]
  },
  {
   "cell_type": "code",
   "execution_count": 40,
   "id": "068cc525",
   "metadata": {},
   "outputs": [
    {
     "name": "stdout",
     "output_type": "stream",
     "text": [
      "(3, 3)\n"
     ]
    }
   ],
   "source": [
    "# Exercise 4 - Print out the shape of the array c\n",
    "\n",
    "print(c.shape)"
   ]
  },
  {
   "cell_type": "code",
   "execution_count": 41,
   "id": "d2b1fe03",
   "metadata": {},
   "outputs": [
    {
     "name": "stdout",
     "output_type": "stream",
     "text": [
      "[[1 4 7]\n",
      " [2 5 8]\n",
      " [3 6 9]]\n"
     ]
    }
   ],
   "source": [
    "# Exercise 5 - Transpose c and print out transposed result.\n",
    "\n",
    "print(np.transpose(c))"
   ]
  },
  {
   "cell_type": "code",
   "execution_count": 42,
   "id": "b641ac3b",
   "metadata": {},
   "outputs": [
    {
     "data": {
      "text/plain": [
       "array([[ 30,  36,  42],\n",
       "       [ 66,  81,  96],\n",
       "       [102, 126, 150]])"
      ]
     },
     "execution_count": 42,
     "metadata": {},
     "output_type": "execute_result"
    }
   ],
   "source": [
    "# Exercise 6 - Get the dot product of the array c with c. \n",
    "\n",
    "np.dot(c, c)\n",
    "# The dot product array can be calculated with np.dot(), with each array passed in as arguments"
   ]
  },
  {
   "cell_type": "code",
   "execution_count": 43,
   "id": "d8e8c242",
   "metadata": {},
   "outputs": [
    {
     "data": {
      "text/plain": [
       "261"
      ]
     },
     "execution_count": 43,
     "metadata": {},
     "output_type": "execute_result"
    }
   ],
   "source": [
    "# Exercise 7 - Write the code necessary to sum up the result of c times c transposed. Answer should be 261\n",
    "\n",
    "np.sum(c * np.transpose(c)) # We can use both the np.transpose() function and the np.sum() function"
   ]
  },
  {
   "cell_type": "code",
   "execution_count": 44,
   "id": "c27add08",
   "metadata": {},
   "outputs": [
    {
     "data": {
      "text/plain": [
       "131681894400"
      ]
     },
     "execution_count": 44,
     "metadata": {},
     "output_type": "execute_result"
    }
   ],
   "source": [
    "# Exercise 8 - Write the code necessary to determine the product of c times c transposed. Answer should be 131681894400.\n",
    "\n",
    "np.product(c * np.transpose(c)) # Same as before, but we are using np.product() instead of np.sum()"
   ]
  },
  {
   "cell_type": "code",
   "execution_count": 51,
   "id": "2c16418d",
   "metadata": {},
   "outputs": [],
   "source": [
    "## Setup 4\n",
    "d = [\n",
    "    [90, 30, 45, 0, 120, 180],\n",
    "    [45, -90, -30, 270, 90, 0],\n",
    "    [60, 45, -45, 90, -45, 180]\n",
    "]\n",
    "d = np.array(d)"
   ]
  },
  {
   "cell_type": "code",
   "execution_count": 52,
   "id": "13dc2864",
   "metadata": {},
   "outputs": [
    {
     "data": {
      "text/plain": [
       "array([[ 0.89399666, -0.98803162,  0.85090352,  0.        ,  0.58061118,\n",
       "        -0.80115264],\n",
       "       [ 0.85090352, -0.89399666,  0.98803162, -0.17604595,  0.89399666,\n",
       "         0.        ],\n",
       "       [-0.30481062,  0.85090352, -0.85090352,  0.89399666, -0.85090352,\n",
       "        -0.80115264]])"
      ]
     },
     "execution_count": 52,
     "metadata": {},
     "output_type": "execute_result"
    }
   ],
   "source": [
    "# Exercise 1 - Find the sine of all the numbers in d\n",
    "\n",
    "# In[89]:\n",
    "\n",
    "\n",
    "np.sin(d) #You can use numpys np.sin() function instead of having to import math"
   ]
  },
  {
   "cell_type": "code",
   "execution_count": 53,
   "id": "19ea6a77",
   "metadata": {},
   "outputs": [
    {
     "data": {
      "text/plain": [
       "array([[-0.44807362,  0.15425145,  0.52532199,  1.        ,  0.81418097,\n",
       "        -0.59846007],\n",
       "       [ 0.52532199, -0.44807362,  0.15425145,  0.98438195, -0.44807362,\n",
       "         1.        ],\n",
       "       [-0.95241298,  0.52532199,  0.52532199, -0.44807362,  0.52532199,\n",
       "        -0.59846007]])"
      ]
     },
     "execution_count": 53,
     "metadata": {},
     "output_type": "execute_result"
    }
   ],
   "source": [
    "# Exercise 2 - Find the cosine of all the numbers in d\n",
    "\n",
    "np.cos(d) #You can use numpys np.cos() function instead of having to import math"
   ]
  },
  {
   "cell_type": "code",
   "execution_count": 54,
   "id": "262df351",
   "metadata": {},
   "outputs": [
    {
     "data": {
      "text/plain": [
       "array([[-1.99520041, -6.4053312 ,  1.61977519,  0.        ,  0.71312301,\n",
       "         1.33869021],\n",
       "       [ 1.61977519,  1.99520041,  6.4053312 , -0.17883906, -1.99520041,\n",
       "         0.        ],\n",
       "       [ 0.32004039,  1.61977519, -1.61977519, -1.99520041, -1.61977519,\n",
       "         1.33869021]])"
      ]
     },
     "execution_count": 54,
     "metadata": {},
     "output_type": "execute_result"
    }
   ],
   "source": [
    "# Exercise 3 - Find the tangent of all the numbers in d\n",
    "\n",
    "np.tan(d) #You can use numpys np.tan() function instead of having to import math"
   ]
  },
  {
   "cell_type": "code",
   "execution_count": 57,
   "id": "421a65db",
   "metadata": {},
   "outputs": [
    {
     "name": "stdout",
     "output_type": "stream",
     "text": [
      " There are 4 negative numbers.\n"
     ]
    }
   ],
   "source": [
    "# Exercise 4 - Find all the negative numbers in d\n",
    "\n",
    "d[d < 0]\n",
    "d_neg_num_len = len(d[d < 0])\n",
    "print(f' There are {d_neg_num_len} negative numbers.')"
   ]
  },
  {
   "cell_type": "code",
   "execution_count": 58,
   "id": "6edb2248",
   "metadata": {},
   "outputs": [
    {
     "name": "stdout",
     "output_type": "stream",
     "text": [
      " There are 12 positive numbers.\n"
     ]
    }
   ],
   "source": [
    "# Exercise 5 - Find all the positive numbers in d\n",
    "\n",
    "d[d > 0]\n",
    "d_pos_num_len = len(d[d > 0])\n",
    "print(f' There are {d_pos_num_len} positive numbers.')"
   ]
  },
  {
   "cell_type": "code",
   "execution_count": 59,
   "id": "9eda7ce7",
   "metadata": {},
   "outputs": [
    {
     "data": {
      "text/plain": [
       "array([-90, -45, -30,   0,  30,  45,  60,  90, 120, 180, 270])"
      ]
     },
     "execution_count": 59,
     "metadata": {},
     "output_type": "execute_result"
    }
   ],
   "source": [
    "# Exercise 6 - Return an array of only the unique numbers in d.\n",
    "\n",
    "np.unique(d)"
   ]
  },
  {
   "cell_type": "code",
   "execution_count": 60,
   "id": "cfee8a8b",
   "metadata": {},
   "outputs": [
    {
     "data": {
      "text/plain": [
       "11"
      ]
     },
     "execution_count": 60,
     "metadata": {},
     "output_type": "execute_result"
    }
   ],
   "source": [
    "# Exercise 7 - Determine how many unique numbers there are in d.\n",
    "\n",
    "len(np.unique(d)) # np.unique() gives us all of the unique elements of the selected array"
   ]
  },
  {
   "cell_type": "code",
   "execution_count": 64,
   "id": "d14b6bdc",
   "metadata": {},
   "outputs": [
    {
     "name": "stdout",
     "output_type": "stream",
     "text": [
      "(3, 6)\n"
     ]
    }
   ],
   "source": [
    "# Exercise 8 - Print out the shape of d.\n",
    "\n",
    "print(d.shape) # By using the array.shape function will produce our tuple of (rows, columns)"
   ]
  },
  {
   "cell_type": "code",
   "execution_count": 68,
   "id": "f5805996",
   "metadata": {},
   "outputs": [
    {
     "name": "stdout",
     "output_type": "stream",
     "text": [
      "(6, 3)\n"
     ]
    }
   ],
   "source": [
    "# Exercise 9 - Transpose and then print out the shape of d.\n",
    "\n",
    "print(np.transpose(d).shape)"
   ]
  },
  {
   "cell_type": "code",
   "execution_count": 69,
   "id": "79f42b29",
   "metadata": {},
   "outputs": [
    {
     "data": {
      "text/plain": [
       "array([[ 90,  30],\n",
       "       [ 45,   0],\n",
       "       [120, 180],\n",
       "       [ 45, -90],\n",
       "       [-30, 270],\n",
       "       [ 90,   0],\n",
       "       [ 60,  45],\n",
       "       [-45,  90],\n",
       "       [-45, 180]])"
      ]
     },
     "execution_count": 69,
     "metadata": {},
     "output_type": "execute_result"
    }
   ],
   "source": [
    "# Exercise 10 - Reshape d into an array of 9 x 2\n",
    "\n",
    "np.reshape(d, (9, 2)) # We can use the reshape() function to change the number of rows x columns of the array, through the list will still read the same from left to right"
   ]
  }
 ],
 "metadata": {
  "kernelspec": {
   "display_name": "Python 3 (ipykernel)",
   "language": "python",
   "name": "python3"
  },
  "language_info": {
   "codemirror_mode": {
    "name": "ipython",
    "version": 3
   },
   "file_extension": ".py",
   "mimetype": "text/x-python",
   "name": "python",
   "nbconvert_exporter": "python",
   "pygments_lexer": "ipython3",
   "version": "3.9.12"
  }
 },
 "nbformat": 4,
 "nbformat_minor": 5
}
